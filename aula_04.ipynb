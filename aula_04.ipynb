{
 "cells": [
  {
   "cell_type": "markdown",
   "id": "2ec85f01-790c-4d95-9862-455943613179",
   "metadata": {},
   "source": [
    "# As estruturas de dados do Pandas\n",
    "### Índices das listas e criação de séries no Pandas\n",
    "---"
   ]
  },
  {
   "cell_type": "code",
   "execution_count": null,
   "id": "0f97d224-db3a-48f8-8a41-2fe3ac6e249c",
   "metadata": {},
   "outputs": [],
   "source": [
    "import pandas as pd"
   ]
  },
  {
   "cell_type": "code",
   "execution_count": 2,
   "id": "9e957e4c-1557-46da-90cd-ee1182a14d8c",
   "metadata": {},
   "outputs": [],
   "source": [
    "lista_dados = ['asa','bico','vaso','casa']"
   ]
  },
  {
   "cell_type": "code",
   "execution_count": 3,
   "id": "c57071a4-8101-4d39-9220-510a9af29322",
   "metadata": {},
   "outputs": [],
   "source": [
    "serieA = pd.Series(lista_dados)"
   ]
  },
  {
   "cell_type": "code",
   "execution_count": 4,
   "id": "46a8679a-194c-4791-8235-bf69ff825582",
   "metadata": {},
   "outputs": [],
   "source": [
    "indiceA = serieA.index"
   ]
  },
  {
   "cell_type": "code",
   "execution_count": 5,
   "id": "6a340c35-0b32-4466-81da-33bb2877128d",
   "metadata": {},
   "outputs": [
    {
     "name": "stdout",
     "output_type": "stream",
     "text": [
      "RangeIndex(start=0, stop=4, step=1)\n"
     ]
    }
   ],
   "source": [
    "print(indiceA)"
   ]
  },
  {
   "cell_type": "code",
   "execution_count": 6,
   "id": "90adeb16-a050-4728-b2d5-030d08671317",
   "metadata": {},
   "outputs": [
    {
     "data": {
      "text/plain": [
       "0     asa\n",
       "1    bico\n",
       "2    vaso\n",
       "3    casa\n",
       "dtype: object"
      ]
     },
     "execution_count": 6,
     "metadata": {},
     "output_type": "execute_result"
    }
   ],
   "source": [
    "serieA"
   ]
  },
  {
   "cell_type": "code",
   "execution_count": 7,
   "id": "6c93482d-a40a-411f-a6a5-50bff8fbe99d",
   "metadata": {},
   "outputs": [],
   "source": [
    "indicesB = ['a','b','c','d']"
   ]
  },
  {
   "cell_type": "code",
   "execution_count": 8,
   "id": "1aa31e36-c9a0-47da-a871-f0e01f0859c9",
   "metadata": {},
   "outputs": [],
   "source": [
    "valoresB = (10,20,30,40)"
   ]
  },
  {
   "cell_type": "code",
   "execution_count": 9,
   "id": "06ac91a6-5f26-4b1c-8334-1711c5839ae8",
   "metadata": {},
   "outputs": [],
   "source": [
    "serieB = pd.Series(valoresB, index=indicesB)"
   ]
  },
  {
   "cell_type": "code",
   "execution_count": 10,
   "id": "9ebed358-9148-41e6-92c0-8feef7e8bd17",
   "metadata": {},
   "outputs": [],
   "source": [
    "indiceB = serieB.index"
   ]
  },
  {
   "cell_type": "code",
   "execution_count": 11,
   "id": "bcb8c3e1-f78e-4908-b577-be2d699c3bf1",
   "metadata": {},
   "outputs": [
    {
     "name": "stdout",
     "output_type": "stream",
     "text": [
      "Index(['a', 'b', 'c', 'd'], dtype='object')\n"
     ]
    }
   ],
   "source": [
    "print(indiceB)"
   ]
  },
  {
   "cell_type": "code",
   "execution_count": 12,
   "id": "f86f3e4b-56dd-4bb3-a9bb-182f5e4e7746",
   "metadata": {
    "tags": []
   },
   "outputs": [
    {
     "data": {
      "text/plain": [
       "a    10\n",
       "b    20\n",
       "c    30\n",
       "d    40\n",
       "dtype: int64"
      ]
     },
     "execution_count": 12,
     "metadata": {},
     "output_type": "execute_result"
    }
   ],
   "source": [
    "serieB"
   ]
  },
  {
   "cell_type": "code",
   "execution_count": 13,
   "id": "a36fa62b-b851-45a3-a7f5-4701ee57cae4",
   "metadata": {},
   "outputs": [],
   "source": [
    "indicesC = ['a','b','c','d','e']"
   ]
  },
  {
   "cell_type": "code",
   "execution_count": 14,
   "id": "3ca9c9ac-2e98-48bb-acdb-2d6b77d0408d",
   "metadata": {},
   "outputs": [],
   "source": [
    "valoresC = (10,20,30,40)"
   ]
  },
  {
   "cell_type": "code",
   "execution_count": 15,
   "id": "87158ba9-5fc4-4e44-9240-26085b2223ea",
   "metadata": {
    "tags": []
   },
   "outputs": [
    {
     "ename": "ValueError",
     "evalue": "Length of values (4) does not match length of index (5)",
     "output_type": "error",
     "traceback": [
      "\u001b[1;31m---------------------------------------------------------------------------\u001b[0m",
      "\u001b[1;31mValueError\u001b[0m                                Traceback (most recent call last)",
      "Input \u001b[1;32mIn [15]\u001b[0m, in \u001b[0;36m<cell line: 1>\u001b[1;34m()\u001b[0m\n\u001b[1;32m----> 1\u001b[0m serieC \u001b[38;5;241m=\u001b[39m \u001b[43mpd\u001b[49m\u001b[38;5;241;43m.\u001b[39;49m\u001b[43mSeries\u001b[49m\u001b[43m(\u001b[49m\u001b[43mvaloresC\u001b[49m\u001b[43m,\u001b[49m\u001b[43m \u001b[49m\u001b[43mindex\u001b[49m\u001b[38;5;241;43m=\u001b[39;49m\u001b[43mindicesC\u001b[49m\u001b[43m)\u001b[49m\n",
      "File \u001b[1;32mE:\\prog_bd\\jupyter\\lib\\site-packages\\pandas\\core\\series.py:442\u001b[0m, in \u001b[0;36mSeries.__init__\u001b[1;34m(self, data, index, dtype, name, copy, fastpath)\u001b[0m\n\u001b[0;32m    440\u001b[0m     index \u001b[38;5;241m=\u001b[39m default_index(\u001b[38;5;28mlen\u001b[39m(data))\n\u001b[0;32m    441\u001b[0m \u001b[38;5;28;01melif\u001b[39;00m is_list_like(data):\n\u001b[1;32m--> 442\u001b[0m     \u001b[43mcom\u001b[49m\u001b[38;5;241;43m.\u001b[39;49m\u001b[43mrequire_length_match\u001b[49m\u001b[43m(\u001b[49m\u001b[43mdata\u001b[49m\u001b[43m,\u001b[49m\u001b[43m \u001b[49m\u001b[43mindex\u001b[49m\u001b[43m)\u001b[49m\n\u001b[0;32m    444\u001b[0m \u001b[38;5;66;03m# create/copy the manager\u001b[39;00m\n\u001b[0;32m    445\u001b[0m \u001b[38;5;28;01mif\u001b[39;00m \u001b[38;5;28misinstance\u001b[39m(data, (SingleBlockManager, SingleArrayManager)):\n",
      "File \u001b[1;32mE:\\prog_bd\\jupyter\\lib\\site-packages\\pandas\\core\\common.py:557\u001b[0m, in \u001b[0;36mrequire_length_match\u001b[1;34m(data, index)\u001b[0m\n\u001b[0;32m    553\u001b[0m \u001b[38;5;124;03m\"\"\"\u001b[39;00m\n\u001b[0;32m    554\u001b[0m \u001b[38;5;124;03mCheck the length of data matches the length of the index.\u001b[39;00m\n\u001b[0;32m    555\u001b[0m \u001b[38;5;124;03m\"\"\"\u001b[39;00m\n\u001b[0;32m    556\u001b[0m \u001b[38;5;28;01mif\u001b[39;00m \u001b[38;5;28mlen\u001b[39m(data) \u001b[38;5;241m!=\u001b[39m \u001b[38;5;28mlen\u001b[39m(index):\n\u001b[1;32m--> 557\u001b[0m     \u001b[38;5;28;01mraise\u001b[39;00m \u001b[38;5;167;01mValueError\u001b[39;00m(\n\u001b[0;32m    558\u001b[0m         \u001b[38;5;124m\"\u001b[39m\u001b[38;5;124mLength of values \u001b[39m\u001b[38;5;124m\"\u001b[39m\n\u001b[0;32m    559\u001b[0m         \u001b[38;5;124mf\u001b[39m\u001b[38;5;124m\"\u001b[39m\u001b[38;5;124m(\u001b[39m\u001b[38;5;132;01m{\u001b[39;00m\u001b[38;5;28mlen\u001b[39m(data)\u001b[38;5;132;01m}\u001b[39;00m\u001b[38;5;124m) \u001b[39m\u001b[38;5;124m\"\u001b[39m\n\u001b[0;32m    560\u001b[0m         \u001b[38;5;124m\"\u001b[39m\u001b[38;5;124mdoes not match length of index \u001b[39m\u001b[38;5;124m\"\u001b[39m\n\u001b[0;32m    561\u001b[0m         \u001b[38;5;124mf\u001b[39m\u001b[38;5;124m\"\u001b[39m\u001b[38;5;124m(\u001b[39m\u001b[38;5;132;01m{\u001b[39;00m\u001b[38;5;28mlen\u001b[39m(index)\u001b[38;5;132;01m}\u001b[39;00m\u001b[38;5;124m)\u001b[39m\u001b[38;5;124m\"\u001b[39m\n\u001b[0;32m    562\u001b[0m     )\n",
      "\u001b[1;31mValueError\u001b[0m: Length of values (4) does not match length of index (5)"
     ]
    }
   ],
   "source": [
    "serieC = pd.Series(valoresC, index=indicesC)"
   ]
  },
  {
   "cell_type": "code",
   "execution_count": 16,
   "id": "92d952f7-28f3-476f-8aa1-1689c2149b7a",
   "metadata": {},
   "outputs": [],
   "source": [
    "indicesC = ['a','b','c','d','d']"
   ]
  },
  {
   "cell_type": "code",
   "execution_count": 17,
   "id": "adcfd1f2-fea5-49dc-80e7-2a0648236e11",
   "metadata": {},
   "outputs": [],
   "source": [
    "valoresC = (10,20,30,40,50)"
   ]
  },
  {
   "cell_type": "code",
   "execution_count": 18,
   "id": "5c32b1c4-8ffb-493f-86d4-1ed6959007a2",
   "metadata": {},
   "outputs": [],
   "source": [
    "serieC = pd.Series(valoresC, index=indicesC)"
   ]
  },
  {
   "cell_type": "code",
   "execution_count": 19,
   "id": "a5743e0d-69e7-4cb7-8e1d-b0cbbb1f13d5",
   "metadata": {},
   "outputs": [],
   "source": [
    "indiceC = serieC.index"
   ]
  },
  {
   "cell_type": "code",
   "execution_count": 20,
   "id": "116de51f-abb1-4647-8564-2e439610d8ad",
   "metadata": {},
   "outputs": [
    {
     "name": "stdout",
     "output_type": "stream",
     "text": [
      "Index(['a', 'b', 'c', 'd', 'd'], dtype='object')\n"
     ]
    }
   ],
   "source": [
    "print(indiceC)"
   ]
  },
  {
   "cell_type": "code",
   "execution_count": 21,
   "id": "ea30b39a-a7ac-4b35-8ec0-fe2e934e3030",
   "metadata": {
    "tags": []
   },
   "outputs": [
    {
     "data": {
      "text/plain": [
       "a    10\n",
       "b    20\n",
       "c    30\n",
       "d    40\n",
       "d    50\n",
       "dtype: int64"
      ]
     },
     "execution_count": 21,
     "metadata": {},
     "output_type": "execute_result"
    }
   ],
   "source": [
    "serieC"
   ]
  },
  {
   "cell_type": "code",
   "execution_count": 22,
   "id": "5c12b893-d67a-473b-9f5b-5a020cb2cd2b",
   "metadata": {},
   "outputs": [],
   "source": [
    "indicesD = [10,20,30,40,50]"
   ]
  },
  {
   "cell_type": "code",
   "execution_count": 23,
   "id": "6b63cbf3-e7df-49ba-8806-ea4c65f2d2b3",
   "metadata": {},
   "outputs": [],
   "source": [
    "valoresD = (100,200,300,400,500)"
   ]
  },
  {
   "cell_type": "code",
   "execution_count": 24,
   "id": "ec9793f7-6f56-4335-87fb-94959ad47854",
   "metadata": {},
   "outputs": [],
   "source": [
    "serieD = pd.Series(valoresD, index=indicesD)"
   ]
  },
  {
   "cell_type": "code",
   "execution_count": 25,
   "id": "bff846b0-141f-41b1-9870-af572ee7b3de",
   "metadata": {},
   "outputs": [],
   "source": [
    "indiceD = serieD.index"
   ]
  },
  {
   "cell_type": "code",
   "execution_count": 26,
   "id": "067071b8-e746-4b16-aa8a-5060e5937fb4",
   "metadata": {},
   "outputs": [
    {
     "name": "stdout",
     "output_type": "stream",
     "text": [
      "Int64Index([10, 20, 30, 40, 50], dtype='int64')\n"
     ]
    }
   ],
   "source": [
    "print(indiceD)"
   ]
  },
  {
   "cell_type": "code",
   "execution_count": 27,
   "id": "5fff47ce-3d90-40c4-9d27-a82ff74fe2be",
   "metadata": {
    "tags": []
   },
   "outputs": [
    {
     "data": {
      "text/plain": [
       "10    100\n",
       "20    200\n",
       "30    300\n",
       "40    400\n",
       "50    500\n",
       "dtype: int64"
      ]
     },
     "execution_count": 27,
     "metadata": {},
     "output_type": "execute_result"
    }
   ],
   "source": [
    "serieD"
   ]
  },
  {
   "cell_type": "code",
   "execution_count": 28,
   "id": "55437cf4-6221-4bf2-8b2c-690835bc433d",
   "metadata": {},
   "outputs": [
    {
     "data": {
      "text/plain": [
       "'asa'"
      ]
     },
     "execution_count": 28,
     "metadata": {},
     "output_type": "execute_result"
    }
   ],
   "source": [
    "serieA[0]"
   ]
  },
  {
   "cell_type": "code",
   "execution_count": 29,
   "id": "94d27248-3516-4f4a-b74b-7c9d1819b501",
   "metadata": {},
   "outputs": [],
   "source": [
    "tamanho = indiceA.size"
   ]
  },
  {
   "cell_type": "code",
   "execution_count": 30,
   "id": "5440b720-c142-496f-944b-29c07a50ce97",
   "metadata": {},
   "outputs": [],
   "source": [
    "limite = tamanho - 1"
   ]
  },
  {
   "cell_type": "code",
   "execution_count": 31,
   "id": "f86e4ce6-9285-4bb6-b551-db21ecbd6832",
   "metadata": {},
   "outputs": [
    {
     "data": {
      "text/plain": [
       "3"
      ]
     },
     "execution_count": 31,
     "metadata": {},
     "output_type": "execute_result"
    }
   ],
   "source": [
    "limite"
   ]
  },
  {
   "cell_type": "code",
   "execution_count": 33,
   "id": "04bc871a-5e08-466d-9d0f-7b007213b6e3",
   "metadata": {},
   "outputs": [
    {
     "data": {
      "text/plain": [
       "10"
      ]
     },
     "execution_count": 33,
     "metadata": {},
     "output_type": "execute_result"
    }
   ],
   "source": [
    "serieB[0]"
   ]
  },
  {
   "cell_type": "code",
   "execution_count": 34,
   "id": "44852d15-6be5-4b9c-ba9c-3d4e577b3ab9",
   "metadata": {},
   "outputs": [
    {
     "data": {
      "text/plain": [
       "30"
      ]
     },
     "execution_count": 34,
     "metadata": {},
     "output_type": "execute_result"
    }
   ],
   "source": [
    "serieB['c']"
   ]
  },
  {
   "cell_type": "code",
   "execution_count": 35,
   "id": "a68ba8bf-55f8-4f5e-8ab9-6aaf31769690",
   "metadata": {},
   "outputs": [
    {
     "data": {
      "text/plain": [
       "d    40\n",
       "d    50\n",
       "dtype: int64"
      ]
     },
     "execution_count": 35,
     "metadata": {},
     "output_type": "execute_result"
    }
   ],
   "source": [
    "serieC['d']"
   ]
  },
  {
   "cell_type": "code",
   "execution_count": 36,
   "id": "5650d72d-c353-40ad-be82-4e1abfc29446",
   "metadata": {},
   "outputs": [],
   "source": [
    "serieA.get(100)"
   ]
  },
  {
   "cell_type": "code",
   "execution_count": 37,
   "id": "4bf8149c-4793-4b5d-8a10-5c961a64c130",
   "metadata": {},
   "outputs": [
    {
     "data": {
      "text/plain": [
       "0"
      ]
     },
     "execution_count": 37,
     "metadata": {},
     "output_type": "execute_result"
    }
   ],
   "source": [
    "serieA.get(100,0)"
   ]
  }
 ],
 "metadata": {
  "kernelspec": {
   "display_name": "Python 3.10.7 64-bit",
   "language": "python",
   "name": "python3"
  },
  "language_info": {
   "codemirror_mode": {
    "name": "ipython",
    "version": 3
   },
   "file_extension": ".py",
   "mimetype": "text/x-python",
   "name": "python",
   "nbconvert_exporter": "python",
   "pygments_lexer": "ipython3",
   "version": "3.10.7"
  },
  "vscode": {
   "interpreter": {
    "hash": "0a0d90d550c6a479dee1f0740d3e70b2b484a7bf51e7cbc24aea1f4b188a7c29"
   }
  }
 },
 "nbformat": 4,
 "nbformat_minor": 5
}
